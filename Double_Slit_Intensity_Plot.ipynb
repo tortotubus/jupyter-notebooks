{
  "nbformat": 4,
  "nbformat_minor": 0,
  "metadata": {
    "colab": {
      "name": "Double Slit Intensity Plot",
      "provenance": [],
      "collapsed_sections": [],
      "authorship_tag": "ABX9TyP9Blugqj/9CqJ/qBj41vou",
      "include_colab_link": true
    },
    "kernelspec": {
      "name": "python3",
      "display_name": "Python 3"
    },
    "language_info": {
      "name": "python"
    }
  },
  "cells": [
    {
      "cell_type": "markdown",
      "metadata": {
        "id": "view-in-github",
        "colab_type": "text"
      },
      "source": [
        "<a href=\"https://colab.research.google.com/github/tortotubus/JupyterNotebooks/blob/main/Double_Slit_Intensity_Plot.ipynb\" target=\"_parent\"><img src=\"https://colab.research.google.com/assets/colab-badge.svg\" alt=\"Open In Colab\"/></a>"
      ]
    },
    {
      "cell_type": "markdown",
      "metadata": {
        "id": "np9HAex_XmDA"
      },
      "source": [
        "<p>The following script implements the following equation to show an relative, angular intensity plot that considers diffraction from both individual slits, as well as diffration between two slits:</p>\n",
        "\n",
        "<ol>\n",
        "<li>$$\\alpha = \\frac{\\pi a\\sin{\\theta}}{\\lambda}$$</li>\n",
        "<li>$$\\beta = \\frac{\\pi d\\sin{\\theta}}{\\lambda}$$</li>\n",
        "<li>$$I=I_0\\:cos^2(\\beta)\\left(\\frac{\\sin{\\alpha}}{\\alpha}\\right)^2$$</li>\n",
        "<li>$$I=I_0\\:cos^2\\left(\\frac{\\pi d\\sin{\\theta}}{\\lambda}\\right)\\left(\\frac{\\sin{\\frac{\\pi a\\sin{\\theta}}{\\lambda}}}{\\frac{\\pi a\\sin{\\theta}}{\\lambda}}\\right)^2$$</li>\n",
        "</ol>\n",
        "\n",
        "Further, the script will also automatically color the plot to match the wavelength of light used. This function may also be interactively be shown using [Desmos](https://www.desmos.com/calculator/e4mkuvkyiq)."
      ]
    },
    {
      "cell_type": "code",
      "metadata": {
        "colab": {
          "base_uri": "https://localhost:8080/",
          "height": 297
        },
        "id": "5XXyRPpy-ZTi",
        "outputId": "ad5bfd46-6fa5-4f62-ec86-76eac9a3dd2a"
      },
      "source": [
        "import numpy as np\n",
        "from matplotlib import pyplot as plt\n",
        "from matplotlib import patches as mpatches\n",
        "\n",
        "def wavelength_to_rgb(wavelength, gamma=0.8):\n",
        "\n",
        "    '''This converts a given wavelength of light to an \n",
        "    approximate RGB color value. The wavelength must be given\n",
        "    in nanometers in the range from 380 nm through 750 nm\n",
        "    (789 THz through 400 THz).\n",
        "\n",
        "    Based on code by Dan Bruton\n",
        "    http://www.physics.sfasu.edu/astro/color/spectra.html\n",
        "    '''\n",
        "\n",
        "    wavelength = float(wavelength)\n",
        "    if wavelength >= 380 and wavelength <= 440:\n",
        "        attenuation = 0.3 + 0.7 * (wavelength - 380) / (440 - 380)\n",
        "        R = ((-(wavelength - 440) / (440 - 380)) * attenuation) ** gamma\n",
        "        G = 0.0\n",
        "        B = (1.0 * attenuation) ** gamma\n",
        "    elif wavelength >= 440 and wavelength <= 490:\n",
        "        R = 0.0\n",
        "        G = ((wavelength - 440) / (490 - 440)) ** gamma\n",
        "        B = 1.0\n",
        "    elif wavelength >= 490 and wavelength <= 510:\n",
        "        R = 0.0\n",
        "        G = 1.0\n",
        "        B = (-(wavelength - 510) / (510 - 490)) ** gamma\n",
        "    elif wavelength >= 510 and wavelength <= 580:\n",
        "        R = ((wavelength - 510) / (580 - 510)) ** gamma\n",
        "        G = 1.0\n",
        "        B = 0.0\n",
        "    elif wavelength >= 580 and wavelength <= 645:\n",
        "        R = 1.0\n",
        "        G = (-(wavelength - 645) / (645 - 580)) ** gamma\n",
        "        B = 0.0\n",
        "    elif wavelength >= 645 and wavelength <= 750:\n",
        "        attenuation = 0.3 + 0.7 * (750 - wavelength) / (750 - 645)\n",
        "        R = (1.0 * attenuation) ** gamma\n",
        "        G = 0.0\n",
        "        B = 0.0\n",
        "    else:\n",
        "        R = 0.0\n",
        "        G = 0.0\n",
        "        B = 0.0\n",
        "    R *= 255\n",
        "    G *= 255\n",
        "    B *= 255\n",
        "    return (int(R), int(G), int(B))\n",
        "\n",
        "degreetoradians = 0.0174533\n",
        "maxtheta = 15*degreetoradians\n",
        "dtheta = 1e-2*degreetoradians\n",
        "theta = np.arange(-maxtheta, maxtheta, dtheta)\n",
        "\n",
        "# 380 nm through 750\n",
        "I0 = 1\n",
        "l = 600e-9\n",
        "d = 24*l\n",
        "a = 67*l\n",
        "\n",
        "light_color = wavelength_to_rgb(l*1e9)\n",
        "light_color = ((light_color[0]/255,light_color[1]/255,light_color[2]/255))\n",
        "\n",
        "#alpha = (np.pi*d*np.sin(theta))/l\n",
        "#beta = (np.pi*a*np.sin(theta))/l\n",
        "#singleslit=np.power(np.cos(beta), 2)\n",
        "#doubleslit=np.power(np.sin(alpha)/alpha, 2)\n",
        "#I=singleslit*doubleslit\n",
        "\n",
        "sI = I0*np.power((np.cos((np.pi*d*np.sin(theta))/l)), 2)\n",
        "dI = I0*np.power(np.sin((np.pi*a*np.sin(theta))/l)/((np.pi*a*np.sin(theta))/l), 2)\n",
        "I = I0*np.power((np.cos((np.pi*d*np.sin(theta))/l)), 2)*np.power(np.sin((np.pi*a*np.sin(theta))/l)/((np.pi*a*np.sin(theta))/l), 2)\n",
        "\n",
        "showSingleSlitIntensity = False\n",
        "showDoubleSlitIntensity = False\n",
        "showCombinedIntensity = True\n",
        "\n",
        "if showCombinedIntensity:\n",
        "  intensity, = plt.plot(theta, I, color=light_color, label=\"Combined Diffraction\")\n",
        "  intensity_legend = plt.legend(handles=[intensity], loc='upper right')\n",
        "  plt.gca().add_artist(intensity_legend)\n",
        "\n",
        "if showDoubleSlitIntensity:\n",
        "  doubleintensity, = plt.plot(theta, dI, color='blue', label='Double Slit Interference', linestyle='--')\n",
        "  doubleintensity_legend = plt.legend(handles=[doubleintensity], loc='upper left')\n",
        "  plt.gca().add_artist(doubleintensity_legend)\n",
        "\n",
        "if showSingleSlitIntensity:\n",
        "  singleintensity, = plt.plot(theta, sI, color='orange', label='Single Slit Diffraction', linestyle='--')\n",
        "  singleintensity_legend = plt.legend(handles=[singleintensity], loc='lower left')\n",
        "  plt.gca().add_artist(singleintensity_legend)\n",
        "\n",
        "plt.xlabel(\"Radians\")\n",
        "plt.ylabel(\"$W/m^2$\")\n",
        "plt.title(\"Intensity Plot for $\\lambda=\" + str(int(l*1e9)) + \"\\: nm$, $a=\" + str(round(a*1e6)) + \"\\:\\mu m$ and $d=\" + str(round(d*1e6)) + \"\\:\\mu m$\")\n",
        "plt.savefig('intensityplot.png', dpi=1000)\n",
        "plt.show()"
      ],
      "execution_count": null,
      "outputs": [
        {
          "output_type": "display_data",
          "data": {
            "image/png": "[encoded data removed]",
            "text/plain": [
              "<Figure size 432x288 with 1 Axes>"
            ]
          },
          "metadata": {
            "needs_background": "light"
          }
        }
      ]
    },
    {
      "cell_type": "markdown",
      "metadata": {
        "id": "LEQUzHdgziU-"
      },
      "source": [
        "<p>In addition, we can use <code>pcolormesh()</code> to generate an image for the combined diffraction:</p>"
      ]
    },
    {
      "cell_type": "code",
      "metadata": {
        "colab": {
          "base_uri": "https://localhost:8080/",
          "height": 248
        },
        "id": "PN68jm9p05uA",
        "outputId": "42ae5592-7c58-485c-f0a3-39bebe772584"
      },
      "source": [
        "from matplotlib.colors import LogNorm\n",
        "from matplotlib import cm\n",
        "from matplotlib.colors import ListedColormap, LinearSegmentedColormap\n",
        "\n",
        "theta_steps = 1e4\n",
        "\n",
        "height = 199\n",
        "middle = int(np.floor(height/2))\n",
        "width = int(maxtheta*theta_steps)*2\n",
        "\n",
        "intensity_array = np.zeros((height, width))\n",
        "\n",
        "for theta in range(int(-maxtheta*theta_steps), int(maxtheta*theta_steps), 1):\n",
        "  if theta != 0:\n",
        "    index = theta - int(maxtheta*theta_steps)\n",
        "    intensity_array[middle, index] = np.power((np.cos((np.pi*d*np.sin((theta/theta_steps)))/l)), 2)*np.power(np.sin((np.pi*a*np.sin((theta/theta_steps)))/l)/((np.pi*a*np.sin((theta/theta_steps)))/l), 2)\n",
        "  else:\n",
        "    intensity_array[middle, index] = 1\n",
        "\n",
        "screen_color = [0.1, 0.1, 0.1]\n",
        "\n",
        "N = 256\n",
        "vals = np.ones((N, 4))\n",
        "vals[:, 0] = np.linspace(screen_color[0], light_color[0], N)\n",
        "vals[:, 1] = np.linspace(screen_color[1], light_color[1], N)\n",
        "vals[:, 2] = np.linspace(screen_color[2], light_color[2], N)\n",
        "newcmp = ListedColormap(vals)\n",
        "\n",
        "plt.pcolormesh(intensity_array, cmap=newcmp)\n",
        "plt.axis('off')\n",
        "plt.savefig('intensityhist.png', dpi=1000)\n",
        "plt.show()"
      ],
      "execution_count": null,
      "outputs": [
        {
          "output_type": "display_data",
          "data": {
            "image/png": "[encoded data removed]",
            "text/plain": [
              "<Figure size 432x288 with 1 Axes>"
            ]
          },
          "metadata": {
            "needs_background": "light"
          }
        }
      ]
    }
  ]
}